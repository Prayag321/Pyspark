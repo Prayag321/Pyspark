{
 "cells": [
  {
   "cell_type": "markdown",
   "metadata": {},
   "source": [
    "\"\"\"<br>\n",
    "@Author: Prayag Bhoir<br>\n",
    "@Date: 3-09-2024<br>\n",
    "@Last Modified by: Prayag Bhoir<br>\n",
    "@Last Modified time: 3-09-2024<br>\n",
    "@Title : Covid problems using pyspark sql<br>\n",
    "\"\"\""
   ]
  },
  {
   "cell_type": "code",
   "execution_count": 6,
   "metadata": {},
   "outputs": [],
   "source": [
    "from pyspark.sql import SparkSession\n"
   ]
  },
  {
   "cell_type": "code",
   "execution_count": 7,
   "metadata": {},
   "outputs": [],
   "source": [
    "# Initialize Spark Session\n",
    "spark = SparkSession.builder \\\n",
    "    .appName(\"WordCount\") \\\n",
    "    .master(\"local[*]\") \\\n",
    "    .getOrCreate()"
   ]
  },
  {
   "cell_type": "code",
   "execution_count": 20,
   "metadata": {},
   "outputs": [
    {
     "name": "stdout",
     "output_type": "stream",
     "text": [
      "<class 'pyspark.sql.dataframe.DataFrame'>\n"
     ]
    }
   ],
   "source": [
    "# import csvs using spark\n",
    "df_country_wise_latest = spark.read.csv(\"C:/Users/bhoir/OneDrive/Desktop/fwdcoviddataset/covid-kaggle-dataset/country_wise_latest.csv\" ,header=True, inferSchema=True)\n",
    "print(type(df_country_wise_latest))\n",
    "\n",
    "df_worldometer_data = spark.read.csv(\"C:/Users/bhoir/OneDrive/Desktop/fwdcoviddataset/covid-kaggle-dataset/worldometer_data.csv\" ,header=True, inferSchema=True)\n",
    "\n",
    "df_covid_19_clean_complete = spark.read.csv(\"C:/Users/bhoir/OneDrive/Desktop/fwdcoviddataset/covid-kaggle-dataset/covid_19_clean_complete.csv\" ,header=True, inferSchema=True)\n",
    "\n"
   ]
  },
  {
   "cell_type": "markdown",
   "metadata": {},
   "source": [
    "## 1. To find out the death percentage locally and globally"
   ]
  },
  {
   "cell_type": "code",
   "execution_count": 9,
   "metadata": {},
   "outputs": [],
   "source": [
    "# Create view to use \n",
    "df_country_wise_latest.createOrReplaceTempView(\"country_wise_latest\")"
   ]
  },
  {
   "cell_type": "code",
   "execution_count": 10,
   "metadata": {},
   "outputs": [
    {
     "name": "stdout",
     "output_type": "stream",
     "text": [
      "+--------------+---------+------+---------+------+---------+----------+-------------+------------------+---------------------+----------------------+-------------------+-------------+-----------------+--------------------+\n",
      "|Country/Region|Confirmed|Deaths|Recovered|Active|New cases|New deaths|New recovered|Deaths / 100 Cases|Recovered / 100 Cases|Deaths / 100 Recovered|Confirmed last week|1 week change|1 week % increase|          WHO Region|\n",
      "+--------------+---------+------+---------+------+---------+----------+-------------+------------------+---------------------+----------------------+-------------------+-------------+-----------------+--------------------+\n",
      "|   Afghanistan|    36263|  1269|    25198|  9796|      106|        10|           18|               3.5|                69.49|                  5.04|              35526|          737|             2.07|Eastern Mediterra...|\n",
      "|       Albania|     4880|   144|     2745|  1991|      117|         6|           63|              2.95|                56.25|                  5.25|               4171|          709|             17.0|              Europe|\n",
      "|       Algeria|    27973|  1163|    18837|  7973|      616|         8|          749|              4.16|                67.34|                  6.17|              23691|         4282|            18.07|              Africa|\n",
      "|       Andorra|      907|    52|      803|    52|       10|         0|            0|              5.73|                88.53|                  6.48|                884|           23|              2.6|              Europe|\n",
      "|        Angola|      950|    41|      242|   667|       18|         1|            0|              4.32|                25.47|                 16.94|                749|          201|            26.84|              Africa|\n",
      "+--------------+---------+------+---------+------+---------+----------+-------------+------------------+---------------------+----------------------+-------------------+-------------+-----------------+--------------------+\n",
      "\n"
     ]
    }
   ],
   "source": [
    "# Print table\n",
    "temp = spark.sql(\"\"\"\n",
    "\tSELECT * FROM country_wise_latest\n",
    "\tLIMIT(5)\n",
    "                 \"\"\")\n",
    "temp.show()"
   ]
  },
  {
   "cell_type": "code",
   "execution_count": 11,
   "metadata": {},
   "outputs": [
    {
     "name": "stdout",
     "output_type": "stream",
     "text": [
      "+-------+----------------------+\n",
      "|Country|local_death_percentage|\n",
      "+-------+----------------------+\n",
      "|  India|      2.25718596312479|\n",
      "+-------+----------------------+\n",
      "\n",
      "+-----------------------+\n",
      "|global_death_percentage|\n",
      "+-----------------------+\n",
      "|       3.96854825570971|\n",
      "+-----------------------+\n",
      "\n"
     ]
    }
   ],
   "source": [
    "# Calculate local death percentage\n",
    "local_death_percentage = spark.sql(\"\"\"\n",
    "SELECT \n",
    "  `Country/Region` AS Country,\n",
    "  (SUM(CAST(Deaths AS INT)) * 100.0) / SUM(CAST(Confirmed AS INT)) AS local_death_percentage\n",
    "FROM \n",
    "  country_wise_latest\n",
    "GROUP BY\n",
    "  `Country/Region`\n",
    "HAVING\n",
    "  `Country/Region` = 'India'\n",
    "\"\"\")\n",
    "\n",
    "# Calculate global death percentage\n",
    "global_death_percentage = spark.sql(\"\"\"\n",
    "SELECT \n",
    "  (SUM(CAST(Deaths AS INT)) * 100.0) / SUM(CAST(Confirmed AS INT)) AS global_death_percentage\n",
    "FROM \n",
    "  country_wise_latest\n",
    "\"\"\")\n",
    "\n",
    "local_death_percentage.show()\n",
    "global_death_percentage.show()"
   ]
  },
  {
   "cell_type": "markdown",
   "metadata": {},
   "source": [
    "## 2. To find out the infected population percentage locally and globally"
   ]
  },
  {
   "cell_type": "code",
   "execution_count": 12,
   "metadata": {},
   "outputs": [],
   "source": [
    "# Create view to use\n",
    "df_worldometer_data.createOrReplaceTempView(\"worldometer_data\")"
   ]
  },
  {
   "cell_type": "code",
   "execution_count": 13,
   "metadata": {},
   "outputs": [
    {
     "name": "stdout",
     "output_type": "stream",
     "text": [
      "+--------------+-------------+----------+----------+--------+-----------+---------+--------------+------------+-----------+----------------+----------------+-------------+----------+------------+--------------+\n",
      "|Country/Region|    Continent|Population|TotalCases|NewCases|TotalDeaths|NewDeaths|TotalRecovered|NewRecovered|ActiveCases|Serious,Critical|Tot Cases/1M pop|Deaths/1M pop|TotalTests|Tests/1M pop|    WHO Region|\n",
      "+--------------+-------------+----------+----------+--------+-----------+---------+--------------+------------+-----------+----------------+----------------+-------------+----------+------------+--------------+\n",
      "|           USA|North America| 331198130|   5032179|    null|     162804|     null|       2576668|        null|    2292707|           18296|           15194|        492.0|  63139605|      190640|      Americas|\n",
      "|        Brazil|South America| 212710692|   2917562|    null|      98644|     null|       2047660|        null|     771258|            8318|           13716|        464.0|  13206188|       62085|      Americas|\n",
      "|         India|         Asia|1381344997|   2025409|    null|      41638|     null|       1377384|        null|     606387|            8944|            1466|         30.0|  22149351|       16035|South-EastAsia|\n",
      "|        Russia|       Europe| 145940924|    871894|    null|      14606|     null|        676357|        null|     180931|            2300|            5974|        100.0|  29716907|      203623|        Europe|\n",
      "|  South Africa|       Africa|  59381566|    538184|    null|       9604|     null|        387316|        null|     141264|             539|            9063|        162.0|   3149807|       53044|        Africa|\n",
      "+--------------+-------------+----------+----------+--------+-----------+---------+--------------+------------+-----------+----------------+----------------+-------------+----------+------------+--------------+\n",
      "\n"
     ]
    }
   ],
   "source": [
    "# Print table\n",
    "temp = spark.sql(\"\"\"\n",
    "\tSELECT * FROM worldometer_data\n",
    "\tLIMIT(5)\n",
    "                 \"\"\")\n",
    "temp.show()"
   ]
  },
  {
   "cell_type": "code",
   "execution_count": 17,
   "metadata": {},
   "outputs": [
    {
     "name": "stdout",
     "output_type": "stream",
     "text": [
      "+--------------+--------------+\n",
      "|Country/Region| Infected_rate|\n",
      "+--------------+--------------+\n",
      "|         India|0.146625861345|\n",
      "+--------------+--------------+\n",
      "\n",
      "+---------+----------+--------------------+\n",
      "|TotalCase|Population|Global_infected_rate|\n",
      "+---------+----------+--------------------+\n",
      "| 19169166|6326421290|    0.30300173069884|\n",
      "+---------+----------+--------------------+\n",
      "\n"
     ]
    }
   ],
   "source": [
    "# Calculate infected population percentage locally (per country)\n",
    "infected_population_percentage_local = spark.sql(\n",
    "\"\"\"\n",
    "SELECT \n",
    "  `Country/Region`,\n",
    "  (TotalCases * 100.0 / `Population`) AS Infected_rate\n",
    "FROM \n",
    "  worldometer_data\n",
    "WHERE\n",
    "  `Country/Region` = 'India'\n",
    "\"\"\")\n",
    "\n",
    "# Calculate global infected population percentage\n",
    "infected_population_percentage_global = spark.sql(\"\"\"\n",
    "SELECT\n",
    "  SUM(TotalCases) AS TotalCase,\n",
    "  SUM(CAST(`Population` AS BIGINT)) AS Population,\n",
    "  (SUM(TotalCases) * 100.0 / SUM(CAST(`Population` AS BIGINT))) AS Global_infected_rate\n",
    "FROM \n",
    "  worldometer_data\n",
    "\"\"\")\n",
    "\n",
    "infected_population_percentage_local.show()\n",
    "infected_population_percentage_global.show()"
   ]
  },
  {
   "cell_type": "markdown",
   "metadata": {},
   "source": [
    "## 3. To find out the countries with the highest infection rates"
   ]
  },
  {
   "cell_type": "code",
   "execution_count": 16,
   "metadata": {},
   "outputs": [
    {
     "name": "stdout",
     "output_type": "stream",
     "text": [
      "+--------------+-------------+----------+----------+--------+-----------+---------+--------------+------------+-----------+----------------+----------------+-------------+----------+------------+--------------+\n",
      "|Country/Region|    Continent|Population|TotalCases|NewCases|TotalDeaths|NewDeaths|TotalRecovered|NewRecovered|ActiveCases|Serious,Critical|Tot Cases/1M pop|Deaths/1M pop|TotalTests|Tests/1M pop|    WHO Region|\n",
      "+--------------+-------------+----------+----------+--------+-----------+---------+--------------+------------+-----------+----------------+----------------+-------------+----------+------------+--------------+\n",
      "|           USA|North America| 331198130|   5032179|    null|     162804|     null|       2576668|        null|    2292707|           18296|           15194|        492.0|  63139605|      190640|      Americas|\n",
      "|        Brazil|South America| 212710692|   2917562|    null|      98644|     null|       2047660|        null|     771258|            8318|           13716|        464.0|  13206188|       62085|      Americas|\n",
      "|         India|         Asia|1381344997|   2025409|    null|      41638|     null|       1377384|        null|     606387|            8944|            1466|         30.0|  22149351|       16035|South-EastAsia|\n",
      "|        Russia|       Europe| 145940924|    871894|    null|      14606|     null|        676357|        null|     180931|            2300|            5974|        100.0|  29716907|      203623|        Europe|\n",
      "|  South Africa|       Africa|  59381566|    538184|    null|       9604|     null|        387316|        null|     141264|             539|            9063|        162.0|   3149807|       53044|        Africa|\n",
      "+--------------+-------------+----------+----------+--------+-----------+---------+--------------+------------+-----------+----------------+----------------+-------------+----------+------------+--------------+\n",
      "\n"
     ]
    }
   ],
   "source": [
    "# Print table\n",
    "temp = spark.sql(\"\"\"\n",
    "\tSELECT * FROM worldometer_data\n",
    "\tLIMIT(5)\n",
    "                 \"\"\")\n",
    "temp.show()"
   ]
  },
  {
   "cell_type": "code",
   "execution_count": 15,
   "metadata": {},
   "outputs": [
    {
     "name": "stdout",
     "output_type": "stream",
     "text": [
      "+-------------+--------------+\n",
      "|      country|infection_rate|\n",
      "+-------------+--------------+\n",
      "|        Qatar|3.992157575045|\n",
      "|French Guiana|2.714564857959|\n",
      "|      Bahrain|2.513023907975|\n",
      "|   San Marino|2.059638163710|\n",
      "|        Chile|1.916481022828|\n",
      "|       Panama|1.652703989233|\n",
      "|       Kuwait|1.637844316754|\n",
      "|         Oman|1.576904396373|\n",
      "|          USA|1.519386296052|\n",
      "| Vatican City|1.498127340824|\n",
      "|         Peru|1.379345165644|\n",
      "|       Brazil|1.371610412513|\n",
      "|      Armenia|1.343506721582|\n",
      "|      Andorra|1.221563705065|\n",
      "|   Luxembourg|1.128156541490|\n",
      "|      Mayotte|1.112578131000|\n",
      "|    Singapore|0.931778541578|\n",
      "| South Africa|0.906314932819|\n",
      "|       Israel|0.864998331085|\n",
      "|     Maldives|0.864348931015|\n",
      "+-------------+--------------+\n",
      "only showing top 20 rows\n",
      "\n"
     ]
    }
   ],
   "source": [
    "highest_infection_rates = spark.sql(\"\"\"\n",
    "SELECT \n",
    "  `Country/Region` AS country, \n",
    "  (SUM(TotalCases) * 100.0) / Population AS infection_rate\n",
    "FROM \n",
    "  worldometer_data\n",
    "GROUP BY \n",
    "  `Country/Region`, Population\n",
    "ORDER BY \n",
    "  infection_rate DESC\n",
    "\"\"\")\n",
    "\n",
    "highest_infection_rates.show()"
   ]
  },
  {
   "cell_type": "markdown",
   "metadata": {},
   "source": [
    "## 4. To find out the countries and continents with the highest death counts"
   ]
  },
  {
   "cell_type": "code",
   "execution_count": 18,
   "metadata": {},
   "outputs": [
    {
     "name": "stdout",
     "output_type": "stream",
     "text": [
      "+--------------+-------------+----------+----------+--------+-----------+---------+--------------+------------+-----------+----------------+----------------+-------------+----------+------------+--------------+\n",
      "|Country/Region|    Continent|Population|TotalCases|NewCases|TotalDeaths|NewDeaths|TotalRecovered|NewRecovered|ActiveCases|Serious,Critical|Tot Cases/1M pop|Deaths/1M pop|TotalTests|Tests/1M pop|    WHO Region|\n",
      "+--------------+-------------+----------+----------+--------+-----------+---------+--------------+------------+-----------+----------------+----------------+-------------+----------+------------+--------------+\n",
      "|           USA|North America| 331198130|   5032179|    null|     162804|     null|       2576668|        null|    2292707|           18296|           15194|        492.0|  63139605|      190640|      Americas|\n",
      "|        Brazil|South America| 212710692|   2917562|    null|      98644|     null|       2047660|        null|     771258|            8318|           13716|        464.0|  13206188|       62085|      Americas|\n",
      "|         India|         Asia|1381344997|   2025409|    null|      41638|     null|       1377384|        null|     606387|            8944|            1466|         30.0|  22149351|       16035|South-EastAsia|\n",
      "|        Russia|       Europe| 145940924|    871894|    null|      14606|     null|        676357|        null|     180931|            2300|            5974|        100.0|  29716907|      203623|        Europe|\n",
      "|  South Africa|       Africa|  59381566|    538184|    null|       9604|     null|        387316|        null|     141264|             539|            9063|        162.0|   3149807|       53044|        Africa|\n",
      "+--------------+-------------+----------+----------+--------+-----------+---------+--------------+------------+-----------+----------------+----------------+-------------+----------+------------+--------------+\n",
      "\n"
     ]
    }
   ],
   "source": [
    "# Print table\n",
    "temp = spark.sql(\"\"\"\n",
    "\tSELECT * FROM worldometer_data\n",
    "\tLIMIT(5)\n",
    "                 \"\"\")\n",
    "temp.show()"
   ]
  },
  {
   "cell_type": "code",
   "execution_count": 19,
   "metadata": {},
   "outputs": [
    {
     "name": "stdout",
     "output_type": "stream",
     "text": [
      "+------------+-----------+\n",
      "|   Countries|Death_count|\n",
      "+------------+-----------+\n",
      "|         USA|     162804|\n",
      "|      Brazil|      98644|\n",
      "|      Mexico|      50517|\n",
      "|          UK|      46413|\n",
      "|       India|      41638|\n",
      "|       Italy|      35187|\n",
      "|      France|      30312|\n",
      "|       Spain|      28500|\n",
      "|        Peru|      20424|\n",
      "|        Iran|      17976|\n",
      "|      Russia|      14606|\n",
      "|    Colombia|      11939|\n",
      "|       Chile|       9889|\n",
      "|     Belgium|       9859|\n",
      "|South Africa|       9604|\n",
      "|     Germany|       9252|\n",
      "|      Canada|       8966|\n",
      "| Netherlands|       6153|\n",
      "|    Pakistan|       6035|\n",
      "|     Ecuador|       5877|\n",
      "+------------+-----------+\n",
      "only showing top 20 rows\n",
      "\n",
      "+-----------------+-----------+\n",
      "|        Continent|Death_count|\n",
      "+-----------------+-----------+\n",
      "|    North America|     229855|\n",
      "|           Europe|     205232|\n",
      "|    South America|     154885|\n",
      "|             Asia|     100627|\n",
      "|           Africa|      22114|\n",
      "|Australia/Oceania|        281|\n",
      "+-----------------+-----------+\n",
      "\n"
     ]
    }
   ],
   "source": [
    "# Countries with the highest death counts\n",
    "highest_death_counts_countries = spark.sql(\n",
    "\"\"\"\n",
    "SELECT \n",
    "\t`Country/Region` AS Countries,\n",
    "  TotalDeaths AS Death_count\n",
    "FROM \n",
    "  worldometer_data\n",
    "ORDER BY \n",
    "  Death_count DESC;\n",
    "\"\"\")\n",
    "\n",
    "# Continents with the highest death counts\n",
    "highest_death_counts_continents = spark.sql(\n",
    "\"\"\"\n",
    "SELECT \n",
    "\tContinent,\n",
    "  SUM(TotalDeaths) AS Death_count\n",
    "FROM \n",
    "  worldometer_data\n",
    "WHERE \n",
    "  Continent IS NOT NULL\n",
    "GROUP BY\n",
    "  Continent\n",
    "ORDER BY \n",
    "  Death_count DESC;\n",
    "\"\"\")\n",
    "\n",
    "highest_death_counts_countries.show()\n",
    "highest_death_counts_continents.show()\n"
   ]
  },
  {
   "cell_type": "markdown",
   "metadata": {},
   "source": [
    "## 5. Average number of deaths by day (Continents and Countries)"
   ]
  },
  {
   "cell_type": "code",
   "execution_count": 21,
   "metadata": {},
   "outputs": [],
   "source": [
    "# Create view to use\n",
    "df_covid_19_clean_complete.createOrReplaceTempView(\"covid_19_clean_complete\")"
   ]
  },
  {
   "cell_type": "code",
   "execution_count": 22,
   "metadata": {},
   "outputs": [
    {
     "name": "stdout",
     "output_type": "stream",
     "text": [
      "+--------------+--------------+--------+---------+----------+---------+------+---------+------+--------------------+\n",
      "|Province/State|Country/Region|     Lat|     Long|      Date|Confirmed|Deaths|Recovered|Active|          WHO Region|\n",
      "+--------------+--------------+--------+---------+----------+---------+------+---------+------+--------------------+\n",
      "|          null|   Afghanistan|33.93911|67.709953|2020-01-22|        0|     0|        0|     0|Eastern Mediterra...|\n",
      "|          null|       Albania| 41.1533|  20.1683|2020-01-22|        0|     0|        0|     0|              Europe|\n",
      "|          null|       Algeria| 28.0339|   1.6596|2020-01-22|        0|     0|        0|     0|              Africa|\n",
      "|          null|       Andorra| 42.5063|   1.5218|2020-01-22|        0|     0|        0|     0|              Europe|\n",
      "|          null|        Angola|-11.2027|  17.8739|2020-01-22|        0|     0|        0|     0|              Africa|\n",
      "+--------------+--------------+--------+---------+----------+---------+------+---------+------+--------------------+\n",
      "\n"
     ]
    }
   ],
   "source": [
    "# Print table\n",
    "temp = spark.sql(\"\"\"\n",
    "\tSELECT * FROM covid_19_clean_complete\n",
    "\tLIMIT(5)\n",
    "                 \"\"\")\n",
    "temp.show()"
   ]
  },
  {
   "cell_type": "code",
   "execution_count": 28,
   "metadata": {},
   "outputs": [
    {
     "name": "stdout",
     "output_type": "stream",
     "text": [
      "+----------+--------------+\n",
      "|      Date|Average_Deaths|\n",
      "+----------+--------------+\n",
      "|2020-07-27|      148011.0|\n",
      "|2020-07-26|      146935.0|\n",
      "|2020-07-25|      146465.0|\n",
      "|2020-07-24|      145560.0|\n",
      "|2020-07-23|      144430.0|\n",
      "|2020-07-22|      143316.0|\n",
      "|2020-07-21|      142121.0|\n",
      "|2020-07-20|      141025.0|\n",
      "|2020-07-19|      140534.0|\n",
      "|2020-07-18|      140119.0|\n",
      "|2020-07-17|      139266.0|\n",
      "|2020-07-16|      138358.0|\n",
      "|2020-07-15|      137415.0|\n",
      "|2020-07-14|      136466.0|\n",
      "|2020-07-13|      135566.0|\n",
      "|2020-07-12|      135205.0|\n",
      "|2020-07-11|      134777.0|\n",
      "|2020-07-10|      134101.0|\n",
      "|2020-07-09|      133290.0|\n",
      "|2020-07-08|      132300.0|\n",
      "+----------+--------------+\n",
      "only showing top 20 rows\n",
      "\n",
      "+----------+----------+-----------------+\n",
      "|WHO Region|      Date|   Average_Deaths|\n",
      "+----------+----------+-----------------+\n",
      "|  Americas|2020-07-27|7450.695652173913|\n",
      "|  Americas|2020-07-26|7373.413043478261|\n",
      "|  Americas|2020-07-25|7322.108695652174|\n",
      "|  Americas|2020-07-24|7260.173913043478|\n",
      "|  Americas|2020-07-23|7174.065217391304|\n",
      "|  Americas|2020-07-22|           7004.5|\n",
      "|  Americas|2020-07-21|6916.913043478261|\n",
      "|  Americas|2020-07-20| 6824.95652173913|\n",
      "|  Americas|2020-07-19|6776.065217391304|\n",
      "|  Americas|2020-07-18|6730.021739130435|\n",
      "|  Americas|2020-07-17|6661.630434782609|\n",
      "|  Americas|2020-07-16|6561.369565217391|\n",
      "|  Americas|2020-07-15|6480.086956521739|\n",
      "|  Americas|2020-07-14|           6403.0|\n",
      "|  Americas|2020-07-13|6321.804347826087|\n",
      "|  Americas|2020-07-12|6274.304347826087|\n",
      "|  Americas|2020-07-11|6230.369565217391|\n",
      "|  Americas|2020-07-10|6163.717391304348|\n",
      "|  Americas|2020-07-09|6087.217391304348|\n",
      "|  Americas|2020-07-08|6008.152173913043|\n",
      "+----------+----------+-----------------+\n",
      "only showing top 20 rows\n",
      "\n"
     ]
    }
   ],
   "source": [
    "# Average deaths per day by country\n",
    "average_deaths_per_day_country = spark.sql(\n",
    "\"\"\"\n",
    "SELECT \n",
    "\t`Date`,\n",
    "  AVG(Deaths) AS Average_Deaths\n",
    "FROM \n",
    "  covid_19_clean_complete\n",
    "GROUP BY\n",
    "  `Date`, `Country/Region`\n",
    "ORDER BY \n",
    "  Average_Deaths DESC;\n",
    "\"\"\")\n",
    "\n",
    "# Average deaths per day by continent\n",
    "average_deaths_per_day_continent = spark.sql(\n",
    "\"\"\"\n",
    "SELECT \n",
    "\t`WHO Region`,\n",
    "  `Date`,\n",
    "  AVG(Deaths) AS Average_Deaths\n",
    "FROM \n",
    "  covid_19_clean_complete\n",
    "GROUP BY\n",
    "  `Date`, `WHO Region`\n",
    "ORDER BY \n",
    "  Average_Deaths DESC;\n",
    "\"\"\")\n",
    "\n",
    "average_deaths_per_day_country.show()\n",
    "average_deaths_per_day_continent.show()\n"
   ]
  },
  {
   "cell_type": "markdown",
   "metadata": {},
   "source": [
    "## 6. Average of cases divided by the number of population of each country (TOP 10)"
   ]
  },
  {
   "cell_type": "code",
   "execution_count": 34,
   "metadata": {},
   "outputs": [
    {
     "name": "stdout",
     "output_type": "stream",
     "text": [
      "+----------------+-----------------------+\n",
      "|         Country|Avg_Cases_By_Population|\n",
      "+----------------+-----------------------+\n",
      "|            Chad|     0.0000572019680000|\n",
      "|          Russia|     0.0059742940920000|\n",
      "|        Paraguay|     0.0008927207340000|\n",
      "|           Macao|     0.0000707482240000|\n",
      "|             CAR|     0.0009549890110000|\n",
      "|           Yemen|     0.0000591563590000|\n",
      "|Turks and Caicos|     0.0033274865870000|\n",
      "|         Senegal|     0.0006384103030000|\n",
      "|          Sweden|     0.0081110505510000|\n",
      "|      Cabo Verde|     0.0049121331850000|\n",
      "+----------------+-----------------------+\n",
      "\n"
     ]
    }
   ],
   "source": [
    "average_cases_per_population = spark.sql(\n",
    "\"\"\"\n",
    "SELECT \n",
    "\t`Country/Region` AS Country,\t\n",
    "  AVG((TotalCases * 1.0) / `Population`) AS Avg_Cases_By_Population\n",
    "FROM \n",
    "  worldometer_data\n",
    "GROUP BY\n",
    "  `Country/Region`\n",
    "LIMIT 10\n",
    "\"\"\")\n",
    "\n",
    "average_cases_per_population.show()\n"
   ]
  }
 ],
 "metadata": {
  "kernelspec": {
   "display_name": "Python 3",
   "language": "python",
   "name": "python3"
  },
  "language_info": {
   "codemirror_mode": {
    "name": "ipython",
    "version": 3
   },
   "file_extension": ".py",
   "mimetype": "text/x-python",
   "name": "python",
   "nbconvert_exporter": "python",
   "pygments_lexer": "ipython3",
   "version": "3.12.5"
  }
 },
 "nbformat": 4,
 "nbformat_minor": 2
}
