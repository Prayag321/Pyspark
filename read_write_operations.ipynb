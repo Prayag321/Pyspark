{
 "cells": [
  {
   "cell_type": "markdown",
   "metadata": {},
   "source": [
    "\"\"\"<br>\n",
    "@Author: Prayag Bhoir<br>\n",
    "@Date: 3-09-2024<br>\n",
    "@Last Modified by: Prayag Bhoir<br>\n",
    "@Last Modified time: 3-09-2024<br>\n",
    "@Title : Read write operations using pyspark<br>\n",
    "\"\"\""
   ]
  },
  {
   "cell_type": "code",
   "execution_count": 4,
   "metadata": {},
   "outputs": [],
   "source": [
    "from pyspark.sql import SparkSession"
   ]
  },
  {
   "cell_type": "code",
   "execution_count": 2,
   "metadata": {},
   "outputs": [],
   "source": [
    "# Initialize Spark Session\n",
    "spark = SparkSession.builder \\\n",
    "    .appName(\"WordCount\") \\\n",
    "    .master(\"local[*]\") \\\n",
    "    .getOrCreate()\n"
   ]
  },
  {
   "cell_type": "markdown",
   "metadata": {},
   "source": [
    "## Read csv file and write to avro format "
   ]
  },
  {
   "cell_type": "code",
   "execution_count": 3,
   "metadata": {},
   "outputs": [],
   "source": [
    "# Import text file in dataframe\n",
    "pdf = spark.read.text(\"C:/Users/bhoir/OneDrive/Desktop/pratice_bl/Pyspark/text.txt\")\n"
   ]
  },
  {
   "cell_type": "code",
   "execution_count": 4,
   "metadata": {},
   "outputs": [
    {
     "name": "stdout",
     "output_type": "stream",
     "text": [
      "+-------+\n",
      "|  value|\n",
      "+-------+\n",
      "|prayag |\n",
      "| aditya|\n",
      "|  deven|\n",
      "|   shiv|\n",
      "|  ayush|\n",
      "+-------+\n",
      "\n"
     ]
    }
   ],
   "source": [
    "# Show pyspark data frame \n",
    "pdf.show()"
   ]
  },
  {
   "cell_type": "code",
   "execution_count": 9,
   "metadata": {},
   "outputs": [],
   "source": [
    "# Write a text to csv and json file\n",
    "pdf.write.csv(\"C:/Users/bhoir/OneDrive/Desktop/pratice_bl/Pyspark/text.csv\", header=True, mode=\"overwrite\")\n",
    "\n",
    "pdf.write.json(\"C:/Users/bhoir/OneDrive/Desktop/pratice_bl/Pyspark/text.json\", mode=\"overwrite\")"
   ]
  },
  {
   "cell_type": "code",
   "execution_count": 1,
   "metadata": {},
   "outputs": [
    {
     "ename": "NameError",
     "evalue": "name 'spark' is not defined",
     "output_type": "error",
     "traceback": [
      "\u001b[1;31m---------------------------------------------------------------------------\u001b[0m",
      "\u001b[1;31mNameError\u001b[0m                                 Traceback (most recent call last)",
      "Cell \u001b[1;32mIn[1], line 1\u001b[0m\n\u001b[1;32m----> 1\u001b[0m \u001b[43mspark\u001b[49m\u001b[38;5;241m.\u001b[39mstop()\n",
      "\u001b[1;31mNameError\u001b[0m: name 'spark' is not defined"
     ]
    }
   ],
   "source": [
    "spark.stop()"
   ]
  },
  {
   "cell_type": "markdown",
   "metadata": {},
   "source": [
    "## Read csv file and write to avro and json file format "
   ]
  },
  {
   "cell_type": "code",
   "execution_count": 5,
   "metadata": {},
   "outputs": [],
   "source": [
    "# Create session for avro compatibility\n",
    "spark = SparkSession.builder \\\n",
    "    .appName(\"Avro Example\") \\\n",
    "    .config(\"spark.jars.packages\", \"org.apache.spark:spark-avro_2.12:3.2.2\") \\\n",
    "    .getOrCreate()"
   ]
  },
  {
   "cell_type": "code",
   "execution_count": 6,
   "metadata": {},
   "outputs": [],
   "source": [
    "# Import csv file in dataframe\n",
    "pdf = spark.read.csv(\"C:/Users/bhoir/OneDrive/Desktop/pratice_bl/Pyspark/text.csv/part-00000-797c998c-4222-44b7-b79f-5bee2cbf5653-c000.csv\" ,header=True, inferSchema=True)"
   ]
  },
  {
   "cell_type": "code",
   "execution_count": 7,
   "metadata": {},
   "outputs": [
    {
     "name": "stdout",
     "output_type": "stream",
     "text": [
      "+------+\n",
      "| value|\n",
      "+------+\n",
      "|prayag|\n",
      "|aditya|\n",
      "| deven|\n",
      "|  shiv|\n",
      "| ayush|\n",
      "+------+\n",
      "\n"
     ]
    }
   ],
   "source": [
    "# Show pyspark data frame \n",
    "pdf.show()"
   ]
  },
  {
   "cell_type": "code",
   "execution_count": 9,
   "metadata": {},
   "outputs": [],
   "source": [
    "# Write to avro\n",
    "pdf.write.format(\"avro\").mode(\"overwrite\").save(\"C:/Users/bhoir/OneDrive/Desktop/pratice_bl/Pyspark/text.avro\")"
   ]
  }
 ],
 "metadata": {
  "kernelspec": {
   "display_name": "Python 3",
   "language": "python",
   "name": "python3"
  },
  "language_info": {
   "codemirror_mode": {
    "name": "ipython",
    "version": 3
   },
   "file_extension": ".py",
   "mimetype": "text/x-python",
   "name": "python",
   "nbconvert_exporter": "python",
   "pygments_lexer": "ipython3",
   "version": "3.12.5"
  }
 },
 "nbformat": 4,
 "nbformat_minor": 2
}
